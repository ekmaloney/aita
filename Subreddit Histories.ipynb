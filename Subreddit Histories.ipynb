{
 "cells": [
  {
   "cell_type": "code",
   "execution_count": 2,
   "metadata": {},
   "outputs": [],
   "source": [
    "import requests\n",
    "import json\n",
    "import re\n",
    "import time\n",
    "\n",
    "PUSHSHIFT_REDDIT_URL = \"http://api.pushshift.io/reddit\"\n",
    "\n",
    "def fetchObjects(subreddit, typ, after_date):\n",
    "\n",
    "    # Perform an API request\n",
    "    r = requests.get(PUSHSHIFT_REDDIT_URL + \"/\" + str(typ) + \"/search/\" + \"?subreddit=\" + \n",
    "                     str(subreddit) + \"&sort=asc&ort_type=created_utc&after=\" + str(after_date) +\n",
    "                     \"&size=1000\",timeout=30)\n",
    "\n",
    "    # Check the status code, if successful, process the data\n",
    "    if r.status_code == 200:\n",
    "        response = json.loads(r.text)\n",
    "        data = response['data']\n",
    "        sorted_data_by_id = sorted(data, key=lambda x: int(x['id'],36))\n",
    "        return sorted_data_by_id\n",
    "\n",
    "def extract_reddit_data(subreddit, typ):\n",
    "    # Speficify the start timestamp\n",
    "    print(subreddit)\n",
    "    print(typ)\n",
    "    max_created_utc = 1119484800 #06/23/2005 @ 12:00 AM 1356998400  # 01/01/2013 @ 12:00am (UTC)\n",
    "    max_id = 0\n",
    "\n",
    "    # Open a file for JSON output\n",
    "    file = open(subreddit + \"_\" + typ + \"April22.json\",\"a\")\n",
    "\n",
    "    # While loop for recursive function\n",
    "    while 1:\n",
    "        nothing_processed = True\n",
    "        # Call the recursive function\n",
    "        objects = fetchObjects(subreddit, typ, max_created_utc)\n",
    "        \n",
    "        # Loop the returned data, ordered by date\n",
    "        for object in objects:\n",
    "            id = int(object['id'],36)\n",
    "            if id > max_id:\n",
    "                nothing_processed = False\n",
    "                created_utc = object['created_utc']\n",
    "                max_id = id\n",
    "                if created_utc > max_created_utc: max_created_utc = created_utc\n",
    "                # Output JSON data to the opened file\n",
    "                print(json.dumps(object,sort_keys=True,ensure_ascii=True),file=file)\n",
    "        \n",
    "        # Exit if nothing happened\n",
    "        if nothing_processed: return\n",
    "        max_created_utc -= 1\n",
    "\n",
    "        # Sleep a little before the next recursive function call\n",
    "        time.sleep(.5)"
   ]
  },
  {
   "cell_type": "code",
   "execution_count": 3,
   "metadata": {},
   "outputs": [
    {
     "name": "stdout",
     "output_type": "stream",
     "text": [
      "aita\n",
      "submission\n",
      "aita\n",
      "comment\n"
     ]
    }
   ],
   "source": [
    "extract_reddit_data(\"aita\", \"submission\")\n",
    "extract_reddit_data(\"aita\", \"comment\")"
   ]
  },
  {
   "cell_type": "code",
   "execution_count": null,
   "metadata": {},
   "outputs": [],
   "source": []
  },
  {
   "cell_type": "code",
   "execution_count": null,
   "metadata": {},
   "outputs": [],
   "source": []
  },
  {
   "cell_type": "code",
   "execution_count": null,
   "metadata": {},
   "outputs": [],
   "source": []
  },
  {
   "cell_type": "code",
   "execution_count": null,
   "metadata": {},
   "outputs": [],
   "source": []
  }
 ],
 "metadata": {
  "kernelspec": {
   "display_name": "Python 3",
   "language": "python",
   "name": "python3"
  },
  "language_info": {
   "codemirror_mode": {
    "name": "ipython",
    "version": 3
   },
   "file_extension": ".py",
   "mimetype": "text/x-python",
   "name": "python",
   "nbconvert_exporter": "python",
   "pygments_lexer": "ipython3",
   "version": "3.7.3"
  }
 },
 "nbformat": 4,
 "nbformat_minor": 2
}
